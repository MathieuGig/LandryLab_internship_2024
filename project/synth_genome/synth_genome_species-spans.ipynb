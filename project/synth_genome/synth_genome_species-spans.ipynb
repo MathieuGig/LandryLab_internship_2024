{
 "cells": [
  {
   "cell_type": "code",
   "execution_count": 9,
   "id": "c0e304a6-dc12-4a8a-a292-5ee603101319",
   "metadata": {},
   "outputs": [],
   "source": [
    "import re\n",
    "import pandas as pd"
   ]
  },
  {
   "cell_type": "code",
   "execution_count": 21,
   "id": "43d5a35b-9312-4345-9ea3-3b84b96330b7",
   "metadata": {},
   "outputs": [
    {
     "data": {
      "text/plain": [
       "296162"
      ]
     },
     "execution_count": 21,
     "metadata": {},
     "output_type": "execute_result"
    }
   ],
   "source": [
    "with open(\"v4_synthetic_genome.fa\") as genome:\n",
    "    genome_content = genome.read()\n",
    "\n",
    "# Removes first line puts a space\n",
    "#dna = re.sub(\">.*\", \"\", genome_content)\n",
    "dna = re.sub(\"\\n\", \"\", genome_content)\n",
    "\n",
    "len(dna)"
   ]
  },
  {
   "cell_type": "code",
   "execution_count": 22,
   "id": "c44c75ca-abaa-4cab-8af9-c2b0ea49814d",
   "metadata": {},
   "outputs": [],
   "source": [
    "species_list = [\"Aspergillus fumigatus\", \"Candida albicans\", \"Candida auris\", \"Candida parapsilosis\", \"Candida tropicalis\", \"Cryptococcus neoformans\", \"Nasakeomyces glabrata\", \"Pichia kudriavzevii\"]\n"
   ]
  },
  {
   "cell_type": "code",
   "execution_count": 23,
   "id": "c9cd8615-0642-42df-9783-7f5a7f1817d6",
   "metadata": {},
   "outputs": [
    {
     "name": "stdout",
     "output_type": "stream",
     "text": [
      "span Aspergillus fumigatus :  (0, 36503)\n",
      "span Candida albicans :  (36503, 89050)\n",
      "span Candida auris :  (89050, 125966)\n",
      "span Candida parapsilosis :  (125966, 165355)\n",
      "span Candida tropicalis :  (165355, 195553)\n",
      "span Cryptococcus neoformans :  (195553, 226017)\n",
      "span Nasakeomyces glabrata :  (226017, 282403)\n",
      "span Pichia kudriavzevii :  (282403, 296162)\n"
     ]
    }
   ],
   "source": [
    "pattern = re.compile(\">\\w*\")\n",
    "matches = pattern.finditer(dna)\n",
    "\n",
    "for i, match in enumerate(matches):\n",
    "    sp = species_list[i]\n",
    "    print(f'span {sp} : ', match.span())\n",
    "    #print(f'match {sp} : ', match.group()[0:23])"
   ]
  },
  {
   "cell_type": "code",
   "execution_count": null,
   "id": "ef9b7347-e754-408f-a0be-db6442aca72f",
   "metadata": {},
   "outputs": [],
   "source": []
  }
 ],
 "metadata": {
  "kernelspec": {
   "display_name": "Python 3 (ipykernel)",
   "language": "python",
   "name": "python3"
  },
  "language_info": {
   "codemirror_mode": {
    "name": "ipython",
    "version": 3
   },
   "file_extension": ".py",
   "mimetype": "text/x-python",
   "name": "python",
   "nbconvert_exporter": "python",
   "pygments_lexer": "ipython3",
   "version": "3.10.9"
  }
 },
 "nbformat": 4,
 "nbformat_minor": 5
}
