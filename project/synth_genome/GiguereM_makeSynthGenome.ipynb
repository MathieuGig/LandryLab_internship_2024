{
 "cells": [
  {
   "cell_type": "markdown",
   "id": "1bfec4af-e675-4c43-810c-869e0602fe99",
   "metadata": {},
   "source": [
    "# Make Synthetic Genome\n",
    "Author : Mathieu Giguere \\\n",
    "Date : 02/07/2024 \\\n",
    "Brief : Strings together the genes of interest of some species into a singular synthetic genome. \\\n",
    "Dependencies : "
   ]
  },
  {
   "cell_type": "code",
   "execution_count": 1,
   "id": "e76b45e9-e19d-4cfc-9599-85d8a4e7c5f6",
   "metadata": {},
   "outputs": [],
   "source": [
    "# plan\n",
    "\n",
    "# 1. Lire les fichiers genomes (fasta) -> liste\n",
    "# 2. Lire les fichiers gffs -> Extraire les coordonnees des genes d'interets\n",
    "# 3. Pour chaque genome, chercher la sous-liste des bases de chaque gene d'interet et les appends avec un spacer 'NNNNNNNNNN'\n",
    "# 4. Append tous les str en 1 genome synthetique avec spacer 'N+' adequat"
   ]
  },
  {
   "cell_type": "code",
   "execution_count": null,
   "id": "714ae4d7-bdff-422f-a726-7df37e05ed3a",
   "metadata": {},
   "outputs": [],
   "source": []
  }
 ],
 "metadata": {
  "kernelspec": {
   "display_name": "Python 3 (ipykernel)",
   "language": "python",
   "name": "python3"
  },
  "language_info": {
   "codemirror_mode": {
    "name": "ipython",
    "version": 3
   },
   "file_extension": ".py",
   "mimetype": "text/x-python",
   "name": "python",
   "nbconvert_exporter": "python",
   "pygments_lexer": "ipython3",
   "version": "3.10.9"
  }
 },
 "nbformat": 4,
 "nbformat_minor": 5
}
