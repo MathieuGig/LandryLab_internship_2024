{
 "cells": [
  {
   "cell_type": "markdown",
   "id": "1bfec4af-e675-4c43-810c-869e0602fe99",
   "metadata": {},
   "source": [
    "# Make Synthetic Genome\n",
    "Author : Mathieu Giguere \\\n",
    "Date : 02/07/2024 \\\n",
    "Brief : Strings together the genes of interest of some species into a singular synthetic genome. \\\n",
    "Dependencies : "
   ]
  },
  {
   "cell_type": "markdown",
   "id": "708632c5-f88a-4fe6-a007-16cb5e296d21",
   "metadata": {},
   "source": [
    "## plan\n",
    "\n",
    "### 1. Lire les fichiers genomes (fasta) -> big string\n",
    "### 2. Lire les fichiers gffs -> Extraire les coordonnees des genes d'interets\n",
    "### 3. Pour chaque genome, chercher la sous-liste des bases de chaque gene d'interet et les appends avec un spacer 'NNNNNNNNNN'\n",
    "### 4. Append tous les str en 1 genome synthetique avec spacer 'N+' adequat\n",
    "### 5. Write synthetic genome file in fasta format"
   ]
  },
  {
   "cell_type": "code",
   "execution_count": 1,
   "id": "c691f46d-e402-4388-9b6a-7a1083164898",
   "metadata": {},
   "outputs": [],
   "source": [
    "import re\n",
    "import pandas as pd"
   ]
  },
  {
   "cell_type": "code",
   "execution_count": 2,
   "id": "8213a897-5222-493c-8041-e44ed3582141",
   "metadata": {},
   "outputs": [],
   "source": [
    "with open(\"genes-species.xlsx\") as xlsx:\n",
    "    xlsx_content = xlsx.read()\n",
    "    \n",
    "csv = re.sub(\"\\\\t\", \",\", xlsx_content)\n",
    "\n",
    "new_csv = open(\"gene-species.csv\", \"w\")\n",
    "new_csv.write(csv)\n",
    "new_csv.close()"
   ]
  },
  {
   "cell_type": "code",
   "execution_count": 3,
   "id": "780bb318-12df-472a-ad02-0b6986473073",
   "metadata": {},
   "outputs": [
    {
     "data": {
      "text/html": [
       "<div>\n",
       "<style scoped>\n",
       "    .dataframe tbody tr th:only-of-type {\n",
       "        vertical-align: middle;\n",
       "    }\n",
       "\n",
       "    .dataframe tbody tr th {\n",
       "        vertical-align: top;\n",
       "    }\n",
       "\n",
       "    .dataframe thead th {\n",
       "        text-align: right;\n",
       "    }\n",
       "</style>\n",
       "<table border=\"1\" class=\"dataframe\">\n",
       "  <thead>\n",
       "    <tr style=\"text-align: right;\">\n",
       "      <th></th>\n",
       "      <th>Species</th>\n",
       "      <th>Gene ID</th>\n",
       "    </tr>\n",
       "  </thead>\n",
       "  <tbody>\n",
       "    <tr>\n",
       "      <th>0</th>\n",
       "      <td>Aspergillus fumigatus</td>\n",
       "      <td>[ AFUA_4G06890,  AFUA_6G05140, AFUA_2G00320, A...</td>\n",
       "    </tr>\n",
       "    <tr>\n",
       "      <th>1</th>\n",
       "      <td>Candida albicans</td>\n",
       "      <td>[C5_00660C_A, C1_04770C_A, C1_02420C_A, CR_008...</td>\n",
       "    </tr>\n",
       "    <tr>\n",
       "      <th>2</th>\n",
       "      <td>Candida auris</td>\n",
       "      <td>[B9J08_001448,  B9J08_003737, B9J08_000964, B9...</td>\n",
       "    </tr>\n",
       "    <tr>\n",
       "      <th>3</th>\n",
       "      <td>Candida parapsilosis</td>\n",
       "      <td>[CPAR2_303740, CPAR2_105550, CPAR2_106400, CPA...</td>\n",
       "    </tr>\n",
       "    <tr>\n",
       "      <th>4</th>\n",
       "      <td>Candida tropicalis</td>\n",
       "      <td>[CTRG_05283, CTRG_04480, CTRG_04661, CTRG_0268...</td>\n",
       "    </tr>\n",
       "    <tr>\n",
       "      <th>5</th>\n",
       "      <td>Cryptococcus neoformans</td>\n",
       "      <td>[CNA00300, CNN02320, CNE02100, CNA05950, CNF04...</td>\n",
       "    </tr>\n",
       "    <tr>\n",
       "      <th>6</th>\n",
       "      <td>Nasakeomyces glabrata</td>\n",
       "      <td>[CAGL0E04334g, CAGL0F01793g,  CAGL0G01034g, CA...</td>\n",
       "    </tr>\n",
       "    <tr>\n",
       "      <th>7</th>\n",
       "      <td>Pichia kudriavzevii</td>\n",
       "      <td>[JL09_g2508, JL09_g3074, JL09_g1956, JL09_g200...</td>\n",
       "    </tr>\n",
       "  </tbody>\n",
       "</table>\n",
       "</div>"
      ],
      "text/plain": [
       "                   Species                                            Gene ID\n",
       "0    Aspergillus fumigatus  [ AFUA_4G06890,  AFUA_6G05140, AFUA_2G00320, A...\n",
       "1         Candida albicans  [C5_00660C_A, C1_04770C_A, C1_02420C_A, CR_008...\n",
       "2            Candida auris  [B9J08_001448,  B9J08_003737, B9J08_000964, B9...\n",
       "3     Candida parapsilosis  [CPAR2_303740, CPAR2_105550, CPAR2_106400, CPA...\n",
       "4       Candida tropicalis  [CTRG_05283, CTRG_04480, CTRG_04661, CTRG_0268...\n",
       "5  Cryptococcus neoformans  [CNA00300, CNN02320, CNE02100, CNA05950, CNF04...\n",
       "6    Nasakeomyces glabrata  [CAGL0E04334g, CAGL0F01793g,  CAGL0G01034g, CA...\n",
       "7      Pichia kudriavzevii  [JL09_g2508, JL09_g3074, JL09_g1956, JL09_g200..."
      ]
     },
     "execution_count": 3,
     "metadata": {},
     "output_type": "execute_result"
    }
   ],
   "source": [
    "df = pd.read_csv(\"gene-species.csv\")\n",
    "\n",
    "df = df.groupby('Species')['Gene ID'].apply(list).reset_index()\n",
    "\n",
    "df"
   ]
  },
  {
   "cell_type": "code",
   "execution_count": 4,
   "id": "117a69c9-2675-475a-a23e-6879522e034e",
   "metadata": {},
   "outputs": [],
   "source": [
    "species_genome_file_list = [\"fasta_files/unzipped/Aspergillus_fumigatus.ASM265v1.dna.toplevel.fa\",\n",
    "                           \"fasta_files/unzipped/C_albicans_SC5314_version_A22-s07-m01-r195_chromosomes.fasta\",\n",
    "                           \"fasta_files/unzipped/C_auris_B8441_version_s01-m03-r08_chromosomes.fasta\",\n",
    "                           \"fasta_files/unzipped/C_glabrata_CBS138_version_s05-m03-r06_chromosomes.fasta\",\n",
    "                           \"fasta_files/unzipped/C_parapsilosis_CDC317_version_s01-m06-r03_chromosomes.fasta\",\n",
    "                           \"fasta_files/unzipped/Candida_tropicalis.GCA000006335v3.dna.primary_assembly.GG692418.fa\",\n",
    "                           \"fasta_files/unzipped/Cryptococcus_neoformans.ASM9104v1.dna.toplevel.fa\",\n",
    "                           \"fasta_files/unzipped/Pichia_kudriavzevii_gca_000764455.ASM76445v1.dna.toplevel.fa\"]\n",
    "\n",
    "species_list = [\"A_fumigatus\", \"C_albicans\", \"C_auris\", \"C_glabrata\", \"C_parapsilosis\", \"C_tropicalis\", \"C_neoformans\", \"P_kudriavzevii\"]"
   ]
  },
  {
   "cell_type": "code",
   "execution_count": 5,
   "id": "714ae4d7-bdff-422f-a726-7df37e05ed3a",
   "metadata": {},
   "outputs": [],
   "source": [
    "# Define the file's name.\n",
    "filename = \"fasta_files/unzipped/Aspergillus_fumigatus.ASM265v1.dna.toplevel.fa\"\n",
    "\n",
    "# Open the file and read its content.\n",
    "with open(filename) as f:\n",
    "    content = f.read()\n",
    "    \n",
    "# Removes first line puts a space\n",
    "x = re.sub(\">.*\\\\n\", \" \", content)"
   ]
  },
  {
   "cell_type": "code",
   "execution_count": 6,
   "id": "ae91bd43-143f-4d1f-9d5b-39002659b1e7",
   "metadata": {},
   "outputs": [
    {
     "data": {
      "text/plain": [
       "['gene\\t3126474\\t3132292\\t.\\t-\\t.\\tID=gene:AFUA_6G12400']"
      ]
     },
     "execution_count": 6,
     "metadata": {},
     "output_type": "execute_result"
    }
   ],
   "source": [
    "gff_file = \"gff_files/Aspergillus_fumigatus.ASM265v1.59.gff3\"\n",
    "\n",
    "with open(gff_file) as g:\n",
    "    gff_content = g.read()\n",
    "\n",
    "# find gene coordinates\n",
    "y = re.findall(\"gene.*ID=gene:AFUA_6G12400\", gff_content)\n",
    "y"
   ]
  },
  {
   "cell_type": "code",
   "execution_count": 7,
   "id": "9319c096-eda6-46f2-bdc4-28d0b6f28034",
   "metadata": {},
   "outputs": [
    {
     "name": "stdout",
     "output_type": "stream",
     "text": [
      "['3126474', '3132292', '6', '12400']\n",
      "3126474\n",
      "3132292\n"
     ]
    }
   ],
   "source": [
    "coordinates = re.findall(\"[0-9]+\", y[0])\n",
    "print(coordinates)\n",
    "begin = int(coordinates[0])\n",
    "print(begin)\n",
    "end = int(coordinates[1])\n",
    "print(end)"
   ]
  },
  {
   "cell_type": "code",
   "execution_count": 9,
   "id": "e54dac13-2484-4fed-957c-bf1e3f8b821d",
   "metadata": {},
   "outputs": [],
   "source": [
    "gene_coor = x[begin:end]\n",
    "\n",
    "gene = re.sub(\"\\\\n\", \"\", gene_coor)"
   ]
  },
  {
   "cell_type": "code",
   "execution_count": null,
   "id": "23377973-6d75-41ba-877a-bdb55c6f203a",
   "metadata": {},
   "outputs": [],
   "source": []
  }
 ],
 "metadata": {
  "kernelspec": {
   "display_name": "Python 3 (ipykernel)",
   "language": "python",
   "name": "python3"
  },
  "language_info": {
   "codemirror_mode": {
    "name": "ipython",
    "version": 3
   },
   "file_extension": ".py",
   "mimetype": "text/x-python",
   "name": "python",
   "nbconvert_exporter": "python",
   "pygments_lexer": "ipython3",
   "version": "3.10.9"
  }
 },
 "nbformat": 4,
 "nbformat_minor": 5
}
