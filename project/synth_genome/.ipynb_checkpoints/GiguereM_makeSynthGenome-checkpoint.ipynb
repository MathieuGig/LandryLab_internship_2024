{
 "cells": [
  {
   "cell_type": "markdown",
   "id": "1bfec4af-e675-4c43-810c-869e0602fe99",
   "metadata": {},
   "source": [
    "# Make Synthetic Genome\n",
    "Author : Mathieu Giguere \\\n",
    "Date : 02/07/2024 \\\n",
    "Brief : Strings together the genes of interest of some species into a singular synthetic genome. \\\n",
    "Dependencies : "
   ]
  },
  {
   "cell_type": "markdown",
   "id": "708632c5-f88a-4fe6-a007-16cb5e296d21",
   "metadata": {
    "tags": []
   },
   "source": [
    "## Plan\n",
    "\n",
    "### 1. Read genome files (fasta) -> big string\n",
    "### 2. Read gffs files -> then use regex to extract the coordinates of the genes of interest\n",
    "### 3. For each genome, for each gene of interest, extract its dna sequence in the appropriate genome file\n",
    "### 4. Append each string into 1 genome with spacers\n",
    "### 5. Write synthetic genome file in fasta format"
   ]
  },
  {
   "cell_type": "code",
   "execution_count": 1,
   "id": "c691f46d-e402-4388-9b6a-7a1083164898",
   "metadata": {},
   "outputs": [],
   "source": [
    "import re\n",
    "import pandas as pd"
   ]
  },
  {
   "cell_type": "code",
   "execution_count": 2,
   "id": "8213a897-5222-493c-8041-e44ed3582141",
   "metadata": {},
   "outputs": [],
   "source": [
    "with open(\"genes-species.xlsx\") as xlsx:\n",
    "    xlsx_content = xlsx.read()\n",
    "\n",
    "csv = re.sub(\"\\\\t\", \",\", xlsx_content)\n",
    "\n",
    "\n",
    "new_csv = open(\"gene-species.csv\", \"w\")\n",
    "new_csv.write(csv)\n",
    "new_csv.close()"
   ]
  },
  {
   "cell_type": "code",
   "execution_count": 33,
   "id": "780bb318-12df-472a-ad02-0b6986473073",
   "metadata": {},
   "outputs": [
    {
     "data": {
      "text/html": [
       "<div>\n",
       "<style scoped>\n",
       "    .dataframe tbody tr th:only-of-type {\n",
       "        vertical-align: middle;\n",
       "    }\n",
       "\n",
       "    .dataframe tbody tr th {\n",
       "        vertical-align: top;\n",
       "    }\n",
       "\n",
       "    .dataframe thead th {\n",
       "        text-align: right;\n",
       "    }\n",
       "</style>\n",
       "<table border=\"1\" class=\"dataframe\">\n",
       "  <thead>\n",
       "    <tr style=\"text-align: right;\">\n",
       "      <th></th>\n",
       "      <th>Species</th>\n",
       "      <th>Gene ID</th>\n",
       "    </tr>\n",
       "  </thead>\n",
       "  <tbody>\n",
       "    <tr>\n",
       "      <th>0</th>\n",
       "      <td>Aspergillus fumigatus</td>\n",
       "      <td>[AFUA_4G06890, AFUA_6G05140, AFUA_2G00320, AFU...</td>\n",
       "    </tr>\n",
       "    <tr>\n",
       "      <th>1</th>\n",
       "      <td>Candida albicans</td>\n",
       "      <td>[C5_00660C_A, C1_04770C_A, C1_02420C_A, CR_008...</td>\n",
       "    </tr>\n",
       "    <tr>\n",
       "      <th>2</th>\n",
       "      <td>Candida auris</td>\n",
       "      <td>[B9J08_001448, B9J08_003737, B9J08_000964, B9J...</td>\n",
       "    </tr>\n",
       "    <tr>\n",
       "      <th>3</th>\n",
       "      <td>Candida parapsilosis</td>\n",
       "      <td>[CPAR2_303740, CPAR2_105550, CPAR2_106400, CPA...</td>\n",
       "    </tr>\n",
       "    <tr>\n",
       "      <th>4</th>\n",
       "      <td>Candida tropicalis</td>\n",
       "      <td>[CTRG_05283, CTRG_04480, CTRG_04661, CTRG_0268...</td>\n",
       "    </tr>\n",
       "    <tr>\n",
       "      <th>5</th>\n",
       "      <td>Cryptococcus neoformans</td>\n",
       "      <td>[CNA00300, CNN02320, CNE02100, CNA05950, CNF04...</td>\n",
       "    </tr>\n",
       "    <tr>\n",
       "      <th>6</th>\n",
       "      <td>Nasakeomyces glabrata</td>\n",
       "      <td>[CAGL0E04334g, CAGL0F01793g, CAGL0G01034g, CAG...</td>\n",
       "    </tr>\n",
       "    <tr>\n",
       "      <th>7</th>\n",
       "      <td>Pichia kudriavzevii</td>\n",
       "      <td>[JL09_g2508, JL09_g3074, JL09_g1956, JL09_g200...</td>\n",
       "    </tr>\n",
       "  </tbody>\n",
       "</table>\n",
       "</div>"
      ],
      "text/plain": [
       "                   Species                                            Gene ID\n",
       "0    Aspergillus fumigatus  [AFUA_4G06890, AFUA_6G05140, AFUA_2G00320, AFU...\n",
       "1         Candida albicans  [C5_00660C_A, C1_04770C_A, C1_02420C_A, CR_008...\n",
       "2            Candida auris  [B9J08_001448, B9J08_003737, B9J08_000964, B9J...\n",
       "3     Candida parapsilosis  [CPAR2_303740, CPAR2_105550, CPAR2_106400, CPA...\n",
       "4       Candida tropicalis  [CTRG_05283, CTRG_04480, CTRG_04661, CTRG_0268...\n",
       "5  Cryptococcus neoformans  [CNA00300, CNN02320, CNE02100, CNA05950, CNF04...\n",
       "6    Nasakeomyces glabrata  [CAGL0E04334g, CAGL0F01793g, CAGL0G01034g, CAG...\n",
       "7      Pichia kudriavzevii  [JL09_g2508, JL09_g3074, JL09_g1956, JL09_g200..."
      ]
     },
     "execution_count": 33,
     "metadata": {},
     "output_type": "execute_result"
    }
   ],
   "source": [
    "# Make dataframe that links the species to their genes of interest\n",
    "\n",
    "df = pd.read_csv(\"gene-species.csv\")\n",
    "\n",
    "df = df.groupby('Species')['Gene ID'].apply(list).reset_index()\n",
    "\n",
    "df"
   ]
  },
  {
   "cell_type": "code",
   "execution_count": 4,
   "id": "117a69c9-2675-475a-a23e-6879522e034e",
   "metadata": {},
   "outputs": [],
   "source": [
    "\n",
    "species_genome_file_list = [\"fasta_files/unzipped/Aspergillus_fumigatus.ASM265v1.dna.toplevel.fa\",\n",
    "                           \"fasta_files/unzipped/C_albicans_SC5314_version_A22-s07-m01-r195_chromosomes.fasta\",\n",
    "                           \"fasta_files/unzipped/C_auris_B8441_version_s01-m03-r08_chromosomes.fasta\",\n",
    "                           \"fasta_files/unzipped/C_glabrata_CBS138_version_s05-m03-r06_chromosomes.fasta\",\n",
    "                           \"fasta_files/unzipped/C_parapsilosis_CDC317_version_s01-m06-r03_chromosomes.fasta\",\n",
    "                           \"fasta_files/unzipped/Candida_tropicalis.GCA000006335v3.dna.toplevel.fa\",\n",
    "                           \"fasta_files/unzipped/Cryptococcus_neoformans.ASM9104v1.dna.toplevel.fa\",\n",
    "                           \"fasta_files/unzipped/Pichia_kudriavzevii_gca_000764455.ASM76445v1.dna.toplevel.fa\"]\n",
    "\n",
    "species_list = [\"Aspergillus fumigatus\", \"Candida albicans\", \"Candida auris\", \"Nasakeomyces glabrata\", \"Candida parapsilosis\", \"Candida tropicalis\", \"Cryptococcus neoformans\", \"Pichia kudriavzevii\"]\n",
    "\n",
    "gff_files_list = [\"gff_files/Aspergillus_fumigatus.ASM265v1.59.gff3\",\n",
    "                 \"gff_files/C_albicans_SC5314_version_A22-s07-m01-r195.gff\",\n",
    "                 \"gff_files/C_auris_B8441_version_s01-m03-r08.gff\",\n",
    "                 \"gff_files/C_glabrata_CBS138_version_s05-m03-r06.gff\",\n",
    "                 \"gff_files/C_parapsilosis_CDC317_version_s01-m06-r03.gff\",\n",
    "                 \"gff_files/Candida_tropicalis.GCA000006335v3.59.gff3\",\n",
    "                 \"gff_files/Cryptococcus_neoformans.ASM9104v1.59.gff3\",\n",
    "                 \"gff_files/Pichia_kudriavzevii_gca_000764455.ASM76445v1.59.gff3\"]"
   ]
  },
  {
   "cell_type": "code",
   "execution_count": 29,
   "id": "23377973-6d75-41ba-877a-bdb55c6f203a",
   "metadata": {},
   "outputs": [
    {
     "name": "stdout",
     "output_type": "stream",
     "text": [
      "Aspergillus fumigatus\n",
      "Candida albicans\n",
      "Candida auris\n",
      "Nasakeomyces glabrata\n",
      "Candida parapsilosis\n",
      "Candida tropicalis\n",
      "Cryptococcus neoformans\n",
      "Pichia kudriavzevii\n"
     ]
    }
   ],
   "source": [
    "synth = \"\"\n",
    "spacer = \"NNNNNNNNN\"\n",
    "\n",
    "for i, file in enumerate(species_genome_file_list):\n",
    "    species = species_list[i]\n",
    "    print(species)\n",
    "    with open(file) as genome:\n",
    "        genome_content = genome.read()\n",
    "    \n",
    "    # Removes first line puts a space\n",
    "    dna = re.sub(\">.*\\\\n\", \" \", genome_content)\n",
    "    dna = re.sub(\"\\n\", \"\", dna)\n",
    "    \n",
    "    gff_file = gff_files_list[i]\n",
    "    with open(gff_file) as gff:\n",
    "        gff_content = gff.read()\n",
    "    \n",
    "    gene_list = df['Gene ID'][df['Species'] == species].values[0]\n",
    "    \n",
    "    for g in gene_list:\n",
    "        #print(f'Gene ID : {g}')\n",
    "        \n",
    "        # find gene coordinates\n",
    "        y = re.findall(f\"gene\\\\t.*?{g};\", gff_content)\n",
    "        #print(f\"Found: {y}\")\n",
    "        coordinates = re.findall(\"[0-9]+\", y[0])\n",
    "        #print(f'Coordinates : {coordinates[0:2]}')\n",
    "        begin = int(coordinates[0])\n",
    "        end = int(coordinates[1])\n",
    "        \n",
    "        gene_seq = dna[begin:end+1]\n",
    "        #print(gene_seq)\n",
    "        #gene = re.sub(\"\\\\n\", \"\", gene_coor)\n",
    "        synth += gene_seq + spacer\n",
    "    \n",
    "    synth += spacer + spacer        "
   ]
  },
  {
   "cell_type": "code",
   "execution_count": 32,
   "id": "bd0f411c-4355-4fd3-b144-2a233ea3dda2",
   "metadata": {},
   "outputs": [],
   "source": [
    "# Fasta file creation\n",
    "\n",
    "synth_w_newlines = re.sub(\"(.{60})\", \"\\\\1\\n\", synth, 0, re.DOTALL)\n",
    "    \n",
    "fasta_header = \">synthetic genome, author GiguereM \\n\"\n",
    "\n",
    "my_synth_genome = open(\"my_synthetic_genome.txt\", \"w\")\n",
    "my_synth_genome.write(fasta_header + synth_w_newlines)\n",
    "my_synth_genome.close()"
   ]
  },
  {
   "cell_type": "markdown",
   "id": "31af142a-2c3b-4588-a6a6-80dac509282b",
   "metadata": {},
   "source": [
    "### Is it finding the right sequences.... I'm not sure. Large NNN sequence in Cryptococcus ?? \n",
    "\n",
    "https://fungi.ensembl.org/Pichia_kudriavzevii_gca_000764455/Transcript/Exons?db=core;g=JL09_g2004;r=scaffold00015:63910-67645;t=KGK38844 according to this I'm really not finding the right sequences. For gene JL09_g2004\n",
    "\n",
    "For gene JL09_g66 the gene seems to be on the other DNA strand and in reverse.https://fungi.ensembl.org/Pichia_kudriavzevii_gca_000764455/Transcript/Exons?db=core;g=JL09_g66;r=scaffold00001:170857-171309;t=KGK40609\n",
    "\n",
    "However, for some genes such as : AFUA_1G05050, https://fungi.ensembl.org/Aspergillus_fumigatus/Transcript/Exons?db=core;g=AFUA_1G05050;r=1:1449702-1450353;t=EAL88216 it seems very good !\n",
    "\n",
    "same for CPAR2_602820 with http://www.candidagenome.org/cgi-bin/getSeq?seq=CPAR2_602820&flankl=0&flankr=0&map=a3map&seq_source=C.%20parapsilosis%20CDC317"
   ]
  },
  {
   "cell_type": "code",
   "execution_count": 8,
   "id": "03cbf4bc-24fd-4ace-83c3-cf1f15e1fd2f",
   "metadata": {},
   "outputs": [],
   "source": [
    "#with open('fasta_files/unzipped/C_albicans_SC5314_version_A22-s07-m01-r195_chromosomes.fasta') as genome:\n",
    "#    genome_content = genome.read()\n",
    "    \n",
    "# Removes first line puts a space\n",
    "#dna = re.sub(\">.*\\\\n\", \" \", genome_content)\n",
    "#dna = re.sub(\"\\\\n\", \"\", dna)\n",
    "    \n",
    "#dna[148115:149701+1]"
   ]
  }
 ],
 "metadata": {
  "kernelspec": {
   "display_name": "Python 3 (ipykernel)",
   "language": "python",
   "name": "python3"
  },
  "language_info": {
   "codemirror_mode": {
    "name": "ipython",
    "version": 3
   },
   "file_extension": ".py",
   "mimetype": "text/x-python",
   "name": "python",
   "nbconvert_exporter": "python",
   "pygments_lexer": "ipython3",
   "version": "3.10.9"
  }
 },
 "nbformat": 4,
 "nbformat_minor": 5
}
